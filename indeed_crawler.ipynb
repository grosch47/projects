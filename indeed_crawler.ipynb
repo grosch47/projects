#indeed advance search and tab opener
#tab opener currently commented out

from bs4 import BeautifulSoup, SoupStrainer
import re
import urllib
import webbrowser as wb
import random
import time

base = 'https://www.indeed.com/jobs?'
as_and = '&as_and=sql' #must contain
as_any = '&as_any=data+scientist+analytics+python+r+sql+predictive+growth+saas+internet+marketing+loyalty' #any of these
as_not = '&as_not=engineer'
radius = '&radius=25'
age = '&fromage=15'
MN = '&l=55408'
remote = '&l=remote'
limit = '&limit=50'
sort = '&sort=date'

location = MN #MN or remote

print('Results')
url = str(base + 
      as_and +
      as_any + 
      as_not +
      age +
      radius + 
      location + 
      limit +
      sort)
print(url)

resp = urllib.request.urlopen(url)
soup = BeautifulSoup(resp, from_encoding=resp.info().get_param('charset'))

job_codes = []
for link in soup.find_all('a', href=re.compile("jk=\d+")):
    job_code = link['href']
    job_code = re.search('=(.*)&', job_code).group(1)
    job_codes.append(job_code)
    
view = 'https://www.indeed.com/viewjob?jk='
for job in job_codes:
    posting = view + job
    #wb.open(posting)
    print(posting)
    j = random.randint(1000,2200)/1000.0
    time.sleep(j) #waits for a random time to be nice
