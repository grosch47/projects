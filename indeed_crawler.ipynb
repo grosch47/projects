from bs4 import BeautifulSoup, SoupStrainer
import re
import urllib
import webbrowser as wb
import random
import time
import pandas as pd
from urllib import request
import os
from datetime import datetime as dt
from datetime import timedelta

os.chdir(r'C:\Users\ryangrosch\Documents\Python')

searches = pd.read_csv('search.csv')
searches = searches['search'].values.tolist()
for search in searches:
    try:
        resp = urllib.request.urlopen(search)
        soup = BeautifulSoup(resp, from_encoding=resp.info().get_param('charset'))
    
        job_codes = []
        for link in soup.find_all('a', href=re.compile("jk=\d+")):
            job_code = link['href']
            job_code = re.search('=(.*)&', job_code).group(1)
            job_codes.append(job_code)

        titles = []
        companies = []
        ages = []
        descriptions = []
        view = 'https://www.indeed.com/m/viewjob?jk='
        for job in job_codes:
            posting = view + job

            #make soup
            html = request.urlopen(posting).read().decode('utf8')
            soup = BeautifulSoup(html, 'html.parser')

            #get title
            title = soup.find('title')
            title = title.string # Prints the tag string content 
            title = re.search('(.*)- Indeed Mobile', title).group(1)
            titles.append(title)

            #get other stuff
            company = soup.select('span.source')[0].text
            companies.append(company)

            description = soup.find('div', id="desc").text
            #description = bytes(description, 'utf-8').decode('utf-8', 'ignore') #strip out weird stuff
            descriptions.append(description)
            
            #extract age, change to date
            age = soup.select('span.date')[0].text
            if 'hour' in age:
                age = dt.today().strftime('%Y-%m-%d')
            else:
                age = re.findall(r'\d+',age)
                age = ''.join(age)
                age = int(age)
                age = dt.today() - timedelta(days=age)
                age = age.strftime('%Y-%m-%d')
            ages.append(age)

            j = random.randint(1000,2200)/1000.0
            time.sleep(j) #waits for a random time so that the website don't consider you as a bot

        df = pd.DataFrame(
             {'title': titles,
             'company': companies,
             'age': ages,
             'description': descriptions
             }, index = job_codes)
        df.index.name = 'jk'

        indeed_jobs = pd.read_csv('indeed_jobs.csv',index_col='jk',encoding = "ISO-8859-1")
        df = df.append(indeed_jobs)

        #filter out stuff
        title_filters = ['Architect',
                         'Systems',
                         'Manager',
                         'Director',
                         'Associate',
                         'Admin',
                         'Supervisor',
                         'Executive',
                         'Intern',
                         'Coordinator',
                         'Accountant',
                         'Nurse',
                         'RN',
                         'Worker'
                        ]
        for title_filter in title_filters:
            df = df[df['title'].str.contains(title_filter)==False]

        df = df[~df.index.duplicated(keep='first')]
        df = df.sort_values(by='age',ascending=False)
        df.to_csv('indeed_jobs.csv')
        indeed_jobs = pd.read_csv('indeed_jobs.csv',index_col='jk',encoding = "ISO-8859-1")

        #save search
        ###put it if then for header here
        search_data = pd.DataFrame({'search': search},index=[0])
        search_data.to_csv('search.csv', mode='a', header=False, index=False)
        search_data = pd.read_csv('search.csv')
        search_data = search_data.drop_duplicates()
        search_data.to_csv('search.csv',mode='w', header=True, index=False)
    except:
        pass

#job opener shortcut
indeed_jobs
job = '1f07aa6f9bb96002'
print(view + job)
wb.open(view+job)


indeed_jobs.head(100)
